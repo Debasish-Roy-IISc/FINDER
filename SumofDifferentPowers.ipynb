{
 "cells": [
  {
   "cell_type": "markdown",
   "id": "81a40b7e-08b1-4014-9553-0a2999766333",
   "metadata": {},
   "source": [
    "## imports"
   ]
  },
  {
   "cell_type": "code",
   "execution_count": 1,
   "id": "ac8967b5-f7df-46b9-a05a-9564f50e806d",
   "metadata": {},
   "outputs": [],
   "source": [
    "import numpy as np\n",
    "from numpy import sqrt, abs, pi, exp, diag, mean, min, max, sum, eye\n",
    "from numpy.linalg import norm, inv\n",
    "import math\n",
    "import matplotlib.pyplot as plt\n",
    "import time"
   ]
  },
  {
   "cell_type": "code",
   "execution_count": 2,
   "id": "0a8068e6-cbcf-465d-a7ff-282fade83d11",
   "metadata": {},
   "outputs": [],
   "source": [
    "import torch"
   ]
  },
  {
   "cell_type": "markdown",
   "id": "e0febfb4-adf5-4796-b559-054088174bac",
   "metadata": {
    "id": "APqhphzyQWT_"
   },
   "source": [
    "## function & derivatives"
   ]
  },
  {
   "cell_type": "code",
   "execution_count": 3,
   "id": "86590d1a-244d-47a8-8089-675ec8d0f922",
   "metadata": {},
   "outputs": [],
   "source": [
    "def F03(x):\n",
    "    # SumOfDifferentPowers\n",
    "    n = x.shape[0]\n",
    "    d = x.shape[1]\n",
    "    f = np.sum(np.abs(x)**(np.arange(1, d+1) + 1), axis = 1)\n",
    "    return f.astype('float32')"
   ]
  },
  {
   "cell_type": "code",
   "execution_count": 4,
   "id": "b1a176b3-05a8-47a5-9e2d-4461c81aa0d9",
   "metadata": {},
   "outputs": [],
   "source": [
    "def F03_grad(x):\n",
    "    d = x.shape[1]\n",
    "    gradf = (np.arange(1, d+1) + 1).reshape(1,-1) * np.abs(x)**(np.arange(1, d + 1)) * np.sign(x)\n",
    "    return gradf.astype('float32')"
   ]
  },
  {
   "cell_type": "markdown",
   "id": "86482289-62c4-4f40-9d7a-6091e15ff467",
   "metadata": {
    "id": "AWph2lJ8Lk7E"
   },
   "source": [
    "## func, xmean, dim"
   ]
  },
  {
   "cell_type": "code",
   "execution_count": 5,
   "id": "2429cb2a-3283-4e62-b3a1-77e2e5b2e29c",
   "metadata": {
    "colab": {
     "base_uri": "https://localhost:8080/"
    },
    "id": "ddBwQEmDLj0l",
    "outputId": "110d64ad-1a55-4dfc-8648-9f75b290cbdf"
   },
   "outputs": [],
   "source": [
    "N = 5000\n",
    "strfitnessfct = F03\n",
    "strgrad = F03_grad\n",
    "xmean = 0.1 * np.ones((N,1)) + 0.01* np.random.randn(N,1)\n"
   ]
  },
  {
   "cell_type": "code",
   "execution_count": 6,
   "id": "00d9e06c-ca2d-4b32-bdeb-12b0ab6f4167",
   "metadata": {},
   "outputs": [
    {
     "data": {
      "text/plain": [
       "(5000, 1)"
      ]
     },
     "execution_count": 6,
     "metadata": {},
     "output_type": "execute_result"
    }
   ],
   "source": [
    "xmean.shape"
   ]
  },
  {
   "cell_type": "markdown",
   "id": "4e7fba63-842e-4fd6-a191-65abeb0a7d52",
   "metadata": {},
   "source": [
    "## initialisations"
   ]
  },
  {
   "cell_type": "code",
   "execution_count": 7,
   "id": "4d12acf5-6702-4d9b-8e06-9a331a17d30a",
   "metadata": {},
   "outputs": [],
   "source": [
    "stopfitness = 1e-3"
   ]
  },
  {
   "cell_type": "code",
   "execution_count": 8,
   "id": "07de2b21-4f95-45ff-ba53-87ee5e6849f4",
   "metadata": {},
   "outputs": [],
   "source": [
    "xmean = xmean.astype('float32')\n",
    "xmin = xmean"
   ]
  },
  {
   "cell_type": "code",
   "execution_count": 9,
   "id": "389c31f6-690a-48be-b126-6d7772f9d736",
   "metadata": {},
   "outputs": [],
   "source": [
    "R = 0.1 * np.ones((1,N))\n",
    "Γ = np.zeros((N,1), dtype = np.float32)\n",
    "p = 5\n",
    "cs = 0.1\n",
    "it = 0\n",
    "prev = 0\n",
    "θ = 0.1\n",
    "Δ = 0\n",
    "x_st = xmean\n",
    "fXX = (strfitnessfct(xmean.T))"
   ]
  },
  {
   "cell_type": "markdown",
   "id": "4c487bbc-af99-40a1-bcd0-874054564093",
   "metadata": {},
   "source": [
    "## helper functions"
   ]
  },
  {
   "cell_type": "code",
   "execution_count": 10,
   "id": "c9328a32-ba96-4103-810a-c309d7997f23",
   "metadata": {},
   "outputs": [],
   "source": [
    "def generate_arx(x, r, num = 5):\n",
    "    return np.concatenate([x,x + (r * (2*np.random.rand(num-1, x.shape[0])-1)).T], axis = 1)"
   ]
  },
  {
   "cell_type": "code",
   "execution_count": 11,
   "id": "28702f98-80ba-411a-ac57-3fb3f7320093",
   "metadata": {},
   "outputs": [],
   "source": [
    "def sorted_x_y_grad(x, grads = True):\n",
    "    if grads == True:\n",
    "        y = strfitnessfct(x.T)\n",
    "        y_grad = strgrad(x.T).T\n",
    "        \n",
    "        y_sorted = np.sort(y)\n",
    "        sorted_indices = np.argsort(y)\n",
    "        y_grad_sorted = y_grad[:,sorted_indices]\n",
    "        x_sorted = x[:, sorted_indices]\n",
    "        fittest = x_sorted[:,0:1]\n",
    "\n",
    "        return x_sorted, y_sorted[0], y_grad_sorted, fittest\n",
    "    else:\n",
    "        y = strfitnessfct(x.T)\n",
    "        y_sorted = np.sort(y)\n",
    "        sorted_indices = np.argsort(y)\n",
    "        x_sorted = x[:, sorted_indices]\n",
    "        fittest = x_sorted[:,0:1]\n",
    "        worst = x_sorted[:,-1:]\n",
    "\n",
    "        return fittest, worst, y_sorted[0]"
   ]
  },
  {
   "cell_type": "code",
   "execution_count": 12,
   "id": "60139fb5-a6de-46cc-bd82-ac5be4579c23",
   "metadata": {},
   "outputs": [],
   "source": [
    "def calc_invH(x, x_grad, γ = 1):\n",
    "    a = x - np.mean(x, axis = 1).reshape(-1,1)\n",
    "    b = x_grad - np.mean(x_grad, axis = 1).reshape(-1,1)\n",
    "    c = np.sum(a*b, axis = 1)\n",
    "    d = np.sum(b*b, axis = 1)\n",
    "    Hinv = (c / d).reshape(-1,1)\n",
    "    Hinv = np.nan_to_num(Hinv)\n",
    "    Hinv[Hinv<0] = 0.0\n",
    "    return Hinv**γ"
   ]
  },
  {
   "cell_type": "code",
   "execution_count": 13,
   "id": "16629628-bc61-435d-8a1e-a1a2508bc613",
   "metadata": {},
   "outputs": [],
   "source": [
    "def cal_R(xmin, xmax, ps, cs = 0.1):\n",
    "    ps = (1 - cs) * ps + cs * (xmax - xmin)\n",
    "    sig = np.minimum(np.abs(ps.T), 0.01 * np.ones_like(ps.T))\n",
    "    sig[sig == 0] = 0.01\n",
    "    return sig, ps"
   ]
  },
  {
   "cell_type": "code",
   "execution_count": 14,
   "id": "b52f6bdd-de17-419b-acce-19b14c6d63af",
   "metadata": {},
   "outputs": [],
   "source": [
    "def update_ensemble(x, α, Δ):\n",
    "    K = Δ\n",
    "    x1 = x - α * Δ\n",
    "    return x1, K"
   ]
  },
  {
   "cell_type": "code",
   "execution_count": 15,
   "id": "23d7ada5-e5d6-47fc-95ab-33ab8c39f81f",
   "metadata": {},
   "outputs": [],
   "source": [
    "def increment(K, B, G, θ=0.1):\n",
    "    return θ * K + B * G"
   ]
  },
  {
   "cell_type": "code",
   "execution_count": 16,
   "id": "0bcb85ad-392e-4b11-9c79-cc4a8276ae01",
   "metadata": {},
   "outputs": [],
   "source": [
    "def wolfe_step(g, Hg, x, loss):\n",
    "    \n",
    "    step = 0.1\n",
    "    c_1 = 0.001\n",
    "    pvec = - Hg\n",
    "    γ = 1.0\n",
    "    \n",
    "    while γ > 1e-6:\n",
    "        new_x = x.reshape(-1,1) + γ * pvec.reshape(-1,1)\n",
    "        loss_new = strfitnessfct(new_x.T)\n",
    "        g_new = strgrad(new_x.T)\n",
    "        min_loss = c_1 * γ * pvec @ g\n",
    "        armijo = loss_new - loss - min_loss\n",
    "\n",
    "        if armijo < -0:\n",
    "            step = γ\n",
    "            x = new_x.reshape(-1,1)\n",
    "            break\n",
    "            \n",
    "        else:\n",
    "            γ *= 0.5\n",
    "        # raise RuntimeError(\"Backtracking line search failed to converge\")\n",
    "\n",
    "    return step"
   ]
  },
  {
   "cell_type": "markdown",
   "id": "31c70950-1354-4a55-a3c5-53e0ce03ef2c",
   "metadata": {},
   "source": [
    "# FINDER"
   ]
  },
  {
   "cell_type": "code",
   "execution_count": 17,
   "id": "db2aef0d-e4ea-44e7-98f5-a670edf97d52",
   "metadata": {},
   "outputs": [
    {
     "name": "stdout",
     "output_type": "stream",
     "text": [
      "0 \t 0.008401027 \n",
      "\n",
      "1 \t 0.0006101013 \n",
      "\n",
      "finished training in  0.021591663360595703  seconds\n"
     ]
    },
    {
     "name": "stderr",
     "output_type": "stream",
     "text": [
      "/tmp/ipykernel_3418857/1061633993.py:6: RuntimeWarning: divide by zero encountered in divide\n",
      "  Hinv = (c / d).reshape(-1,1)\n",
      "/tmp/ipykernel_3418857/1061633993.py:6: RuntimeWarning: invalid value encountered in divide\n",
      "  Hinv = (c / d).reshape(-1,1)\n",
      "/tmp/ipykernel_3418857/57268989.py:5: RuntimeWarning: overflow encountered in power\n",
      "  f = np.sum(np.abs(x)**(np.arange(1, d+1) + 1), axis = 1)\n",
      "/tmp/ipykernel_3418857/1618647567.py:3: RuntimeWarning: overflow encountered in power\n",
      "  gradf = (np.arange(1, d+1) + 1).reshape(1,-1) * np.abs(x)**(np.arange(1, d + 1)) * np.sign(x)\n"
     ]
    }
   ],
   "source": [
    "tic = time.time()\n",
    "while True:\n",
    "    \n",
    "    '''\n",
    "    sampling around xmean\n",
    "    '''\n",
    "    arx = generate_arx(xmin, R)\n",
    "    '''\n",
    "    gradient computation and sorting initial ensemble\n",
    "    '''\n",
    "    arx_sorted, least_fitness, gradf_sorted, xmiin = sorted_x_y_grad(arx, grads=True)\n",
    "    \n",
    "    '''\n",
    "    diagonal approximation to the stochastic mimic of the inverse Hessian\n",
    "    '''\n",
    "    B = calc_invH(arx_sorted, gradf_sorted)\n",
    "    \n",
    "    '''\n",
    "    increment term\n",
    "    '''\n",
    "    Δ_sorted = increment(prev, B, gradf_sorted, θ)\n",
    "\n",
    "    '''\n",
    "    update ensemble\n",
    "    '''\n",
    "    α = wolfe_step(gradf_sorted[:, 0], Δ_sorted[:,0], arx_sorted[:, 0], least_fitness)\n",
    "    arx_new, prev = update_ensemble(arx_sorted, α, Δ_sorted)\n",
    "    \n",
    "    '''\n",
    "    new ensemble\n",
    "    '''\n",
    "    arx_new1 = np.concatenate([arx_new, xmiin], axis = 1)\n",
    "    \n",
    "    '''\n",
    "    search radius update\n",
    "    '''\n",
    "    xmin, xmax, min_fitness = sorted_x_y_grad(arx_new1, grads=False)\n",
    "    R, Γ = cal_R(xmin, xmax, Γ)\n",
    "    \n",
    "    '''\n",
    "    storing varibales for plotting\n",
    "    '''\n",
    "    x_st = np.concatenate([x_st, xmin], axis = 1)\n",
    "    fXX = np.concatenate([fXX, np.array([min_fitness])], axis = 0)\n",
    "    \n",
    "    '''\n",
    "    iteration count update and printing\n",
    "    '''\n",
    "    if it == 0:\n",
    "        print(it, \"\\t\", fXX[it],\"\\n\")\n",
    "    it += 1\n",
    "    print(it,\"\\t\", fXX[it],\"\\n\")\n",
    "    \n",
    "    '''\n",
    "    termination criteria\n",
    "    '''\n",
    "    if fXX[-1] <= stopfitness:\n",
    "        break\n",
    "toc = time.time()\n",
    "print(\"finished training in \",toc-tic,\" seconds\")"
   ]
  },
  {
   "cell_type": "code",
   "execution_count": 18,
   "id": "f1d96112-82fb-4ad7-a538-fdaf32b91bd7",
   "metadata": {},
   "outputs": [],
   "source": [
    "# torch.save(torch.Tensor(x_st), 'SumofDifferentPowers_optim_X.pt')"
   ]
  },
  {
   "cell_type": "code",
   "execution_count": 19,
   "id": "d45e2670-20ec-40ed-a4ef-0cc4d70cb93a",
   "metadata": {},
   "outputs": [],
   "source": [
    "# torch.save(torch.Tensor(fXX1), 'SumofDifferentPowers_optim_fX.pt')"
   ]
  },
  {
   "cell_type": "markdown",
   "id": "8cacfed4-dd79-45d8-b286-3bf659064288",
   "metadata": {},
   "source": [
    "# Adam"
   ]
  },
  {
   "cell_type": "code",
   "execution_count": 20,
   "id": "4d43fa74-f090-4e33-9064-023787f89908",
   "metadata": {},
   "outputs": [],
   "source": [
    "from numpy.random import rand\n",
    "from numpy import sqrt\n",
    "fx_st = []\n",
    "def adam(objective, n_iter, alpha, beta1 = 0.9, beta2 = 0.999, eps=1e-8):\n",
    "    # generate an initial point\n",
    "    global xx_st\n",
    "    xx_st = xmean\n",
    "\n",
    "    x = xmean.copy()  # Initialize with random values\n",
    "    score = strfitnessfct(x.T)\n",
    "    # initialize first and second moments\n",
    "    m = [0.0 for _ in range(len(x))]\n",
    "    v = [0.0 for _ in range(len(x))]\n",
    "    # run the gradient descent updates\n",
    "    for t in range(n_iter):\n",
    "        # calculate gradient g(t)\n",
    "        g = strgrad(x.T)\n",
    "        g = g.T\n",
    "        # build a solution one variable at a time\n",
    "        \n",
    "        for i in range(len(x)):\n",
    "            # m(t) = beta1 * m(t-1) + (1 - beta1) * g(t)\n",
    "            m[i] = beta1 * m[i] + (1.0 - beta1) * g[i]\n",
    "            # v(t) = beta2 * v(t-1) + (1 - beta2) * g(t)^2\n",
    "            v[i] = beta2 * v[i] + (1.0 - beta2) * g[i]**2\n",
    "            # mhat(t) = m(t) / (1 - beta1(t))\n",
    "            mhat = m[i] / (1.0 - beta1**(t+1))\n",
    "            # vhat(t) = v(t) / (1 - beta2(t))\n",
    "            vhat = v[i] / (1.0 - beta2**(t+1))\n",
    "            # x(t) = x(t-1) - alpha * mhat(t) / (sqrt(vhat(t)) + eps)\n",
    "            x[i] = x[i] - alpha * mhat / (sqrt(vhat) + eps)\n",
    "        # evaluate candidate point\n",
    "        score = strfitnessfct(x.T)\n",
    "        fx_st.append(score)\n",
    "        xx_st = np.concatenate([xx_st, x], axis = 1)\n",
    "        # report progress\n",
    "        print('Epoch [%d] f(x) = %.6f' % (t, score))\n",
    "        if score < 1e-3:\n",
    "            print(\"------\")\n",
    "            break\n",
    "    \n",
    "    return [x, score, xx_st]\n"
   ]
  },
  {
   "cell_type": "code",
   "execution_count": 21,
   "id": "0e6b9b29-4b4b-4bba-80ec-b59b4fa39e2d",
   "metadata": {
    "scrolled": true
   },
   "outputs": [
    {
     "name": "stderr",
     "output_type": "stream",
     "text": [
      "/tmp/ipykernel_3418857/1841169771.py:37: DeprecationWarning: Conversion of an array with ndim > 0 to a scalar is deprecated, and will error in future. Ensure you extract a single element from your array before performing this operation. (Deprecated NumPy 1.25.)\n",
      "  print('Epoch [%d] f(x) = %.6f' % (t, score))\n"
     ]
    },
    {
     "name": "stdout",
     "output_type": "stream",
     "text": [
      "Epoch [0] f(x) = 0.008195\n",
      "Epoch [1] f(x) = 0.007992\n",
      "Epoch [2] f(x) = 0.007792\n",
      "Epoch [3] f(x) = 0.007594\n",
      "Epoch [4] f(x) = 0.007400\n",
      "Epoch [5] f(x) = 0.007209\n",
      "Epoch [6] f(x) = 0.007020\n",
      "Epoch [7] f(x) = 0.006835\n",
      "Epoch [8] f(x) = 0.006653\n",
      "Epoch [9] f(x) = 0.006474\n",
      "Epoch [10] f(x) = 0.006298\n",
      "Epoch [11] f(x) = 0.006125\n",
      "Epoch [12] f(x) = 0.005955\n",
      "Epoch [13] f(x) = 0.005789\n",
      "Epoch [14] f(x) = 0.005625\n",
      "Epoch [15] f(x) = 0.005465\n",
      "Epoch [16] f(x) = 0.005308\n",
      "Epoch [17] f(x) = 0.005154\n",
      "Epoch [18] f(x) = 0.005003\n",
      "Epoch [19] f(x) = 0.004856\n",
      "Epoch [20] f(x) = 0.004711\n",
      "Epoch [21] f(x) = 0.004570\n",
      "Epoch [22] f(x) = 0.004431\n",
      "Epoch [23] f(x) = 0.004296\n",
      "Epoch [24] f(x) = 0.004164\n",
      "Epoch [25] f(x) = 0.004035\n",
      "Epoch [26] f(x) = 0.003908\n",
      "Epoch [27] f(x) = 0.003785\n",
      "Epoch [28] f(x) = 0.003665\n",
      "Epoch [29] f(x) = 0.003547\n",
      "Epoch [30] f(x) = 0.003433\n",
      "Epoch [31] f(x) = 0.003321\n",
      "Epoch [32] f(x) = 0.003213\n",
      "Epoch [33] f(x) = 0.003106\n",
      "Epoch [34] f(x) = 0.003003\n",
      "Epoch [35] f(x) = 0.002903\n",
      "Epoch [36] f(x) = 0.002805\n",
      "Epoch [37] f(x) = 0.002709\n",
      "Epoch [38] f(x) = 0.002617\n",
      "Epoch [39] f(x) = 0.002526\n",
      "Epoch [40] f(x) = 0.002439\n",
      "Epoch [41] f(x) = 0.002353\n",
      "Epoch [42] f(x) = 0.002271\n",
      "Epoch [43] f(x) = 0.002190\n",
      "Epoch [44] f(x) = 0.002112\n",
      "Epoch [45] f(x) = 0.002036\n",
      "Epoch [46] f(x) = 0.001963\n",
      "Epoch [47] f(x) = 0.001891\n",
      "Epoch [48] f(x) = 0.001822\n",
      "Epoch [49] f(x) = 0.001755\n",
      "Epoch [50] f(x) = 0.001690\n",
      "Epoch [51] f(x) = 0.001627\n",
      "Epoch [52] f(x) = 0.001565\n",
      "Epoch [53] f(x) = 0.001506\n",
      "Epoch [54] f(x) = 0.001449\n",
      "Epoch [55] f(x) = 0.001393\n",
      "Epoch [56] f(x) = 0.001340\n",
      "Epoch [57] f(x) = 0.001288\n",
      "Epoch [58] f(x) = 0.001238\n",
      "Epoch [59] f(x) = 0.001189\n",
      "Epoch [60] f(x) = 0.001142\n",
      "Epoch [61] f(x) = 0.001097\n",
      "Epoch [62] f(x) = 0.001053\n",
      "Epoch [63] f(x) = 0.001011\n",
      "Epoch [64] f(x) = 0.000970\n",
      "------\n",
      "3.2776801586151123\n"
     ]
    }
   ],
   "source": [
    "tic = time.time()\n",
    "_, f, xx_st_001 = adam(F03, 2000, 1e-3)\n",
    "toc = time.time()\n",
    "print(toc - tic)"
   ]
  },
  {
   "cell_type": "code",
   "execution_count": 22,
   "id": "5f09da15-5eab-4468-9af8-094ef0477c99",
   "metadata": {},
   "outputs": [],
   "source": [
    "# torch.save(torch.tensor(fx_st), 'SumofDifferentPowers_adam_fX_001_lr.pt')"
   ]
  },
  {
   "cell_type": "code",
   "execution_count": 23,
   "id": "f941e599-b677-4276-a3c1-0863c594ddb5",
   "metadata": {},
   "outputs": [],
   "source": [
    "# torch.save(torch.Tensor(xx_st_001), 'SumofDifferentPowers_adam_X_001.pt')"
   ]
  },
  {
   "cell_type": "markdown",
   "id": "b66d3266-e892-4009-b814-0575fa6d513c",
   "metadata": {
    "id": "VMHAbtMRGLLE"
   },
   "source": [
    "# plotting"
   ]
  },
  {
   "cell_type": "code",
   "execution_count": 27,
   "id": "8f76268c-7b20-4094-9bc7-93f726979c20",
   "metadata": {
    "id": "A2fWvV4tua7o"
   },
   "outputs": [
    {
     "data": {
      "image/png": "[encoded data removed]",
      "text/plain": [
       "<Figure size 640x480 with 1 Axes>"
      ]
     },
     "metadata": {},
     "output_type": "display_data"
    }
   ],
   "source": [
    "plt.style.use('default')\n",
    "plt.plot(fXX, 'r', label = 'FINDER')\n",
    "plt.plot(fx_st,'b', label = 'Adam')\n",
    "plt.yscale('log')\n",
    "plt.xlabel(\"number of iterations\")\n",
    "# plt.title(\"{} function {} steps {} seconds time\".format(str(strfitnessfct).split()[1], it,np.round(toc - tic,3)))\n",
    "plt.ylabel(\"log(f(x)\")\n",
    "plt.grid()\n",
    "plt.show()"
   ]
  },
  {
   "cell_type": "code",
   "execution_count": null,
   "id": "902c827f-9711-4c84-8b12-a39669f0bd7d",
   "metadata": {},
   "outputs": [],
   "source": []
  }
 ],
 "metadata": {
  "kernelspec": {
   "display_name": "Python 3 (ipykernel)",
   "language": "python",
   "name": "python3"
  },
  "language_info": {
   "codemirror_mode": {
    "name": "ipython",
    "version": 3
   },
   "file_extension": ".py",
   "mimetype": "text/x-python",
   "name": "python",
   "nbconvert_exporter": "python",
   "pygments_lexer": "ipython3",
   "version": "3.10.12"
  }
 },
 "nbformat": 4,
 "nbformat_minor": 5
}
